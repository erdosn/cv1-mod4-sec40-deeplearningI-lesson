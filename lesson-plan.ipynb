{
 "cells": [
  {
   "cell_type": "markdown",
   "metadata": {},
   "source": [
    "### Questions\n",
    "- The various formulas that are used\n",
    "- Chain Rule"
   ]
  },
  {
   "cell_type": "markdown",
   "metadata": {},
   "source": [
    "### Objectives\n",
    "YWBAT\n",
    "- identify the parts of a neural network and explain their values\n",
    "- define forward propagation in your own words\n",
    "- explain the issues of multicollinearity\n",
    "- explain the pros and cons of using keras"
   ]
  },
  {
   "cell_type": "markdown",
   "metadata": {},
   "source": [
    "### Outline\n",
    "- Prior Knowlege (10 minutes)\n",
    "    - Label a neural network diagram in a slideshow\n",
    "- Discuss neural networks and their purpose\n",
    "- Explain the pros and cons of using keras"
   ]
  },
  {
   "cell_type": "markdown",
   "metadata": {},
   "source": [
    "### Output Equation\n",
    "\n",
    "$$ O_1 = S(W^2 \\circ H^1_1)$$\n",
    "\n",
    "But ..........\n",
    "\n",
    "$$ O_1 = S(W^2 \\circ [H^1_1, H^1_2, H^1_3, H^1_4)$$\n",
    "\n",
    "So.....\n",
    "\n",
    "$$ O_1 = S(W^2 \\circ [H^1_1(W^1_1), H^1_2(W^1_2), H^1_3(W^1_3), H^1_4(W^1_4)]$$\n",
    "\n",
    "$$ O_1(W^1, W^2) \\implies  C(W^1, W^3) \\implies y - y^{\\text{hat}}(W^1, W^2)$$\n",
    " \n"
   ]
  },
  {
   "cell_type": "markdown",
   "metadata": {},
   "source": [
    "### What is stochastic Gradient Descent?\n",
    "- It's like gradient descent, but finds the parameters that minimize the cost by using many starting points\n",
    "- learning rate stays the same\n",
    "\n",
    "\n",
    "### ADAM (ADAptive Momentum) optimization\n",
    "- learning rate changes"
   ]
  },
  {
   "cell_type": "code",
   "execution_count": 1,
   "metadata": {},
   "outputs": [],
   "source": [
    "import pandas as pd\n",
    "import numpy as np\n",
    "\n",
    "import matplotlib.pyplot as plt"
   ]
  },
  {
   "cell_type": "markdown",
   "metadata": {},
   "source": [
    "### Assessment"
   ]
  }
 ],
 "metadata": {
  "kernelspec": {
   "display_name": "Python 3",
   "language": "python",
   "name": "python3"
  },
  "language_info": {
   "codemirror_mode": {
    "name": "ipython",
    "version": 3
   },
   "file_extension": ".py",
   "mimetype": "text/x-python",
   "name": "python",
   "nbconvert_exporter": "python",
   "pygments_lexer": "ipython3",
   "version": "3.7.3"
  }
 },
 "nbformat": 4,
 "nbformat_minor": 2
}
